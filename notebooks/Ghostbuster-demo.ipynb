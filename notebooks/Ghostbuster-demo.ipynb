{
 "cells": [
  {
   "cell_type": "code",
   "execution_count": 1,
   "id": "965889f2-d924-45d1-b95c-728bf9707d76",
   "metadata": {},
   "outputs": [],
   "source": [
    "import matplotlib.pyplot as plt\n",
    "import numpy as np\n",
    "import torch\n",
    "from ghostbuster.ghostbuster import Ghostbuster\n",
    "\n",
    "%load_ext autoreload\n",
    "%autoreload 2"
   ]
  },
  {
   "cell_type": "markdown",
   "id": "33bdb38e-86eb-4f44-b515-42291b6aac81",
   "metadata": {},
   "source": [
    "## Helper Functions"
   ]
  },
  {
   "cell_type": "code",
   "execution_count": 2,
   "id": "e886b954-73fc-4b40-86ed-bec06a448e96",
   "metadata": {},
   "outputs": [],
   "source": [
    "def plot_slices(arr, start_idx=0, end_idx=None, ylabel=None):\n",
    "    sz = len(arr)\n",
    "    if end_idx is not None:\n",
    "        indices = np.linspace(start_idx, end_idx, 5).astype(int)\n",
    "    else:\n",
    "        indices = np.linspace(start_idx, sz - 1, 5).astype(int)\n",
    "    fig, axes = plt.subplots(1, 5, constrained_layout=True, dpi=200)\n",
    "    [ax.set(xticks=[], yticks=[]) for ax in axes.ravel()]\n",
    "    for i, ind in enumerate(indices):\n",
    "        ax = axes[i]\n",
    "        ax.imshow(arr[ind])\n",
    "        ax.set_title(f\"slice {ind}\")\n",
    "    if ylabel is not None:\n",
    "        axes[0].set_ylabel(ylabel)\n",
    "    plt.show()"
   ]
  },
  {
   "cell_type": "code",
   "execution_count": 3,
   "id": "6e6d34e6-fe88-4c4f-b404-c89e60ef20d6",
   "metadata": {},
   "outputs": [],
   "source": [
    "fft2 = lambda array: torch.fft.fftshift(torch.fft.fft2(torch.fft.ifftshift(array)))\n",
    "ifft2 = lambda array: torch.fft.fftshift(torch.fft.ifft2(torch.fft.ifftshift(array)))\n",
    "ifftn = lambda array: torch.fft.fftshift(torch.fft.ifftn(torch.fft.ifftshift(array)))\n",
    "fftn = lambda array: torch.fft.fftshift(torch.fft.fftn(torch.fft.ifftshift(array)))"
   ]
  },
  {
   "cell_type": "markdown",
   "id": "e61c34fb-b15c-45c8-9919-de0172809453",
   "metadata": {},
   "source": [
    "------\n",
    "# Ghostbuster"
   ]
  },
  {
   "cell_type": "code",
   "execution_count": 4,
   "id": "108bda15-ab7d-475a-95b7-74b8fec54900",
   "metadata": {},
   "outputs": [],
   "source": [
    "Nuse = 3500\n",
    "D_intensities = torch.load(\"../datasets/datasetD-5MAC_3500_icy_particles_256x256.pt\")[:Nuse]\n",
    "D_quaternions = torch.load(\"../datasets/datasetD-quaternions.pt\")[:Nuse]\n",
    "D_defocuses = torch.load(\"../datasets/datasetD-effectivedefocuses.pt\")[:Nuse]"
   ]
  },
  {
   "cell_type": "code",
   "execution_count": 5,
   "id": "6475878a-83d9-4fbd-8364-d27937075ea1",
   "metadata": {},
   "outputs": [],
   "source": [
    "groundtruth = torch.load(\"../datasets/5MAC_groundtruth.pt\")"
   ]
  },
  {
   "cell_type": "code",
   "execution_count": 6,
   "id": "f6a4a8f1-13ca-454b-b6f6-134aa1af2b5a",
   "metadata": {},
   "outputs": [],
   "source": [
    "dx = 1  # [A]\n",
    "wavelength = 0.02507847  # [A], for 200keV electron wave"
   ]
  },
  {
   "cell_type": "code",
   "execution_count": 7,
   "id": "f8482b86-bd66-48ff-9ce4-fd0616e5a6e9",
   "metadata": {},
   "outputs": [],
   "source": [
    "ghostbuster = Ghostbuster(\n",
    "    D_intensities,\n",
    "    D_quaternions,\n",
    "    D_defocuses,\n",
    "    wavelength,\n",
    "    pixelsize=dx,\n",
    "    raf_device=\"cpu\",\n",
    "    dofs_device=\"cuda:1\",\n",
    "    alpha=0.1,\n",
    "    dose=20,\n",
    "    cs=2,\n",
    "    dofs_batchsize=10,\n",
    ")"
   ]
  },
  {
   "cell_type": "code",
   "execution_count": null,
   "id": "a01e52f4-5a12-4871-9232-d94174b05439",
   "metadata": {},
   "outputs": [
    {
     "name": "stdout",
     "output_type": "stream",
     "text": [
      "Begin RAF.\n",
      "Initializing volume via Pseudoinverse.\n",
      "Creating vignette masks.\n",
      "Vignette masks creation completed.\n"
     ]
    },
    {
     "name": "stderr",
     "output_type": "stream",
     "text": [
      "  6%|█████████▉                                                                                                                                                            | 3/50 [03:05<47:54, 61.15s/it]"
     ]
    }
   ],
   "source": [
    "ghostbuster.ghostbusting(\n",
    "    raf_niter=50,\n",
    "    dofs_niter=5000,\n",
    "    groundtruth=groundtruth,\n",
    "    dofs_stepsize=1,\n",
    "    raf_stepsize=1,\n",
    "    dofs_amplitude_contrast=True,\n",
    "    dofs_positivity=True,\n",
    "    mask_size=200,\n",
    ")"
   ]
  },
  {
   "cell_type": "code",
   "execution_count": null,
   "id": "561b42aa-607f-4383-9668-25c712d514de",
   "metadata": {},
   "outputs": [],
   "source": [
    "plot_slices(ghostbuster.surrogate_volume.cpu().imag, start_idx=80, end_idx=256 - 80, ylabel='RAF')\n",
    "plot_slices(ghostbuster.reconstructed_particle.cpu().real, start_idx=80, end_idx=256 - 80, ylabel='Ghostbuster')\n",
    "plot_slices(groundtruth.real, start_idx=80, end_idx=256 - 80, ylabel='Ground truth')"
   ]
  },
  {
   "cell_type": "code",
   "execution_count": null,
   "id": "d26b756b-eca3-4ecd-ada5-9597077eaabf",
   "metadata": {},
   "outputs": [],
   "source": []
  }
 ],
 "metadata": {
  "kernelspec": {
   "display_name": "Python 3 (ipykernel)",
   "language": "python",
   "name": "python3"
  },
  "language_info": {
   "codemirror_mode": {
    "name": "ipython",
    "version": 3
   },
   "file_extension": ".py",
   "mimetype": "text/x-python",
   "name": "python",
   "nbconvert_exporter": "python",
   "pygments_lexer": "ipython3",
   "version": "3.10.0"
  }
 },
 "nbformat": 4,
 "nbformat_minor": 5
}
