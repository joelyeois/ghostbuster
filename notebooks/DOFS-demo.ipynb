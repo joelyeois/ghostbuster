{
 "cells": [
  {
   "cell_type": "markdown",
   "id": "82eec6bc-8cd3-4c5b-a31b-8cbf79a7c087",
   "metadata": {},
   "source": [
    "# DOFS Demo\n",
    "In this notebook, we demonstrate the depth of field stretching (DOFS) algorithm we developed on simulated data. DOFS stretches the DOF of a 3D reconstruction by taking into account the effects of extended defocus within a 3D particle."
   ]
  },
  {
   "cell_type": "code",
   "execution_count": 1,
   "id": "965889f2-d924-45d1-b95c-728bf9707d76",
   "metadata": {},
   "outputs": [],
   "source": [
    "import matplotlib.pyplot as plt\n",
    "import numpy as np\n",
    "import torch\n",
    "from ghostbuster.dofs import DOFS\n",
    "from ghostbuster.raf import RAF\n",
    "\n",
    "%load_ext autoreload\n",
    "%autoreload 2"
   ]
  },
  {
   "cell_type": "markdown",
   "id": "33bdb38e-86eb-4f44-b515-42291b6aac81",
   "metadata": {},
   "source": [
    "## Helper Functions"
   ]
  },
  {
   "cell_type": "code",
   "execution_count": 2,
   "id": "e886b954-73fc-4b40-86ed-bec06a448e96",
   "metadata": {},
   "outputs": [],
   "source": [
    "def plot_slices(arr, start_idx=0, end_idx=None, ylabel=None):\n",
    "    sz = len(arr)\n",
    "    if end_idx is not None:\n",
    "        indices = np.linspace(start_idx, end_idx, 5).astype(int)\n",
    "    else:\n",
    "        indices = np.linspace(start_idx, sz - 1, 5).astype(int)\n",
    "    fig, axes = plt.subplots(1, 5, constrained_layout=True, dpi=200)\n",
    "    [ax.set(xticks=[], yticks=[]) for ax in axes.ravel()]\n",
    "    for i, ind in enumerate(indices):\n",
    "        ax = axes[i]\n",
    "        ax.imshow(arr[ind])\n",
    "        ax.set_title(f\"slice {ind}\")\n",
    "    plt.show()"
   ]
  },
  {
   "cell_type": "code",
   "execution_count": 3,
   "id": "6e6d34e6-fe88-4c4f-b404-c89e60ef20d6",
   "metadata": {},
   "outputs": [],
   "source": [
    "fft2 = lambda array: torch.fft.fftshift(torch.fft.fft2(torch.fft.ifftshift(array)))\n",
    "ifft2 = lambda array: torch.fft.fftshift(torch.fft.ifft2(torch.fft.ifftshift(array)))\n",
    "ifftn = lambda array: torch.fft.fftshift(torch.fft.ifftn(torch.fft.ifftshift(array)))\n",
    "fftn = lambda array: torch.fft.fftshift(torch.fft.fftn(torch.fft.ifftshift(array)))"
   ]
  },
  {
   "cell_type": "markdown",
   "id": "bbdb4ffa-e4e5-4ad5-bd80-fb88b20a63d8",
   "metadata": {},
   "source": [
    "## DOFS\n",
    "Here, we'll use Dataset A which contains 3500 complex-valued exitwaves of size 256x256 without noise or ice. \n",
    "These are simulated using the full multislice method for the 5MAC particle.\n",
    "The open source code provided here is only implemented on a single GPU. \n",
    "To run the full dataset would require ~30Gb of GPU memory. \n",
    "As an alternative, users may set the `batchsize` to 2 or 3 to fit on a single GPU which takes up ~10Gb of GPU memory.\n",
    "\n",
    "On our machine which uses the NVIDIA L40 GPUs, 5000 iterations of DOFS on one GPU for the full dataset takes about ~110 minutes.\n",
    "\n",
    "Users may also set the `device` flag to `'cpu'` but the algorithm will run significantly slower."
   ]
  },
  {
   "cell_type": "code",
   "execution_count": 4,
   "id": "846f5037-6de7-4f8e-bd4b-a80ae2383c86",
   "metadata": {},
   "outputs": [],
   "source": [
    "groundtruth = torch.load(\"../datasets/5MAC_groundtruth.pt\")"
   ]
  },
  {
   "cell_type": "code",
   "execution_count": 5,
   "id": "d968b0e5-0f6b-4d13-9c9a-aa599dcd342e",
   "metadata": {},
   "outputs": [],
   "source": [
    "Nuse = 3500\n",
    "\n",
    "# Dose was 20 e-/A^2 in this dataset.\n",
    "# We normalize the exitwaves for proper gradient scaling\n",
    "exitwaves = torch.load(\"../datasets/datasetA-5MAC_3500_iceless_exitwaves_256x256.pt\")[\n",
    "    :Nuse\n",
    "]\n",
    "exitwaves /= torch.sqrt(torch.tensor(20))\n",
    "\n",
    "quaternions = torch.load(\"../datasets/datasetA-quaternions.pt\")[:Nuse]"
   ]
  },
  {
   "cell_type": "code",
   "execution_count": 6,
   "id": "65c97d50-a83f-488c-aeb6-27ffdbfab41e",
   "metadata": {},
   "outputs": [],
   "source": [
    "dx = 1  # [A]\n",
    "wavelength = 0.02507847  # [A], for 200keV electron wave"
   ]
  },
  {
   "cell_type": "code",
   "execution_count": 7,
   "id": "2b579ada-7cf3-4e87-b6e1-9879fb7a785a",
   "metadata": {},
   "outputs": [],
   "source": [
    "dofs = DOFS(\n",
    "    exitwaves, quaternions, wavelength, voxelsize=dx, device=\"cuda:2\", batchsize=10\n",
    ")"
   ]
  },
  {
   "cell_type": "code",
   "execution_count": null,
   "id": "3fa8fd79-8d16-48c6-8482-de6e1b2d66f3",
   "metadata": {},
   "outputs": [
    {
     "name": "stderr",
     "output_type": "stream",
     "text": [
      " 10%|███████████████▌                                                                                                                                                | 488/5000 [10:44<1:39:18,  1.32s/it]"
     ]
    }
   ],
   "source": [
    "dofs.initialize(groundtruth=groundtruth)\n",
    "dofs.iterate(\n",
    "    niter=5000, stepsize=1, amplitude_contrast=True, positivity=True\n",
    ")  # for exitwaves\n",
    "t1 = time.perf_counter()"
   ]
  },
  {
   "cell_type": "code",
   "execution_count": null,
   "id": "b8486545-b178-4bf9-a360-0115439c2f27",
   "metadata": {},
   "outputs": [],
   "source": [
    "plot_slices(groundtruth.real, start_idx=80, end_idx=256 - 80, ylabel=\"Ground truth\")"
   ]
  },
  {
   "cell_type": "code",
   "execution_count": null,
   "id": "76373199-9a91-4bd9-afc6-79bead8641ab",
   "metadata": {},
   "outputs": [],
   "source": [
    "plot_slices(\n",
    "    dofs.current.detach().cpu().real, start_idx=80, end_idx=256 - 80, ylabel=\"DOFS\"\n",
    ")"
   ]
  },
  {
   "cell_type": "code",
   "execution_count": null,
   "id": "5275a939-4c40-42a1-9951-f8e4880e77a4",
   "metadata": {},
   "outputs": [],
   "source": [
    "# plot error\n",
    "plt.plot(torch.tensor(dofs.mses).to(\"cpu\"))\n",
    "plt.xlabel(\"Iterations\")\n",
    "plt.ylabel(\"MSE loss w.r.t. ground truth\")\n",
    "plt.show()"
   ]
  }
 ],
 "metadata": {
  "kernelspec": {
   "display_name": "Python 3 (ipykernel)",
   "language": "python",
   "name": "python3"
  },
  "language_info": {
   "codemirror_mode": {
    "name": "ipython",
    "version": 3
   },
   "file_extension": ".py",
   "mimetype": "text/x-python",
   "name": "python",
   "nbconvert_exporter": "python",
   "pygments_lexer": "ipython3",
   "version": "3.10.0"
  }
 },
 "nbformat": 4,
 "nbformat_minor": 5
}
